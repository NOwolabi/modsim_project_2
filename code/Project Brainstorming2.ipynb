{
 "cells": [
  {
   "cell_type": "markdown",
   "metadata": {},
   "source": [
    "# Modeling and Simulation in Python\n",
    "\n",
    "Chapter 6: Analysis\n",
    "\n",
    "Copyright 2017 Allen Downey\n",
    "\n",
    "License: [Creative Commons Attribution 4.0 International](https://creativecommons.org/licenses/by/4.0)\n"
   ]
  },
  {
   "cell_type": "code",
   "execution_count": 1,
   "metadata": {
    "collapsed": true
   },
   "outputs": [],
   "source": [
    "# If you want the figures to appear in the notebook, \n",
    "# and you want to interact with them, use\n",
    "# %matplotlib notebook\n",
    "\n",
    "# If you want the figures to appear in the notebook, \n",
    "# and you don't want to interact with them, use\n",
    "# %matplotlib inline\n",
    "\n",
    "# If you want the figures to appear in separate windows, use\n",
    "# %matplotlib qt5\n",
    "\n",
    "# To switch from one to another, you have to select Kernel->Restart\n",
    "\n",
    "%matplotlib inline\n",
    "\n",
    "from modsim import *"
   ]
  },
  {
   "cell_type": "markdown",
   "metadata": {},
   "source": [
    "### Code from the previous chapter"
   ]
  },
  {
   "cell_type": "markdown",
   "metadata": {},
   "source": [
    "`make_system`, `plot_results`, and `calc_total_infected` are unchanged."
   ]
  },
  {
   "cell_type": "code",
   "execution_count": 88,
   "metadata": {
    "collapsed": true
   },
   "outputs": [],
   "source": [
    "def make_system(beta1, gamma1, beta2, gamma2, t_b):\n",
    "    \"\"\"Make a system object for the SIR model.\n",
    "    \n",
    "    beta: contact rate in days\n",
    "    gamma: recovery rate in days\n",
    "    \n",
    "    returns: System object\n",
    "    \"\"\"\n",
    "    init1 = State(S=89, I1=1, R1=0, I2=0, R2=0, Iboth=0, I12=0, I21=0, Rboth=0)\n",
    "    seriesS = TimeSeries()\n",
    "    seriesI = TimeSeries()\n",
    "    seriesR = TimeSeries()\n",
    "    #S: num people who didn't get either disease\n",
    "    #I1: num people who are infected by disease A\n",
    "    #R1: num people who recovered from disease A\n",
    "    #I2: num people who are infected by disease B\n",
    "    #R2: num people who recovered from disease B\n",
    "    #Iboth: num people infected by both diseases\n",
    "    #I12: num people recovered from disease A and got disease B\n",
    "    #I21: num people recovered from disease B and got disease A\n",
    "    #Rboth: num people who recovered from both diseases\n",
    "    #seriesS: total num people susceptible \n",
    "    #seriesI: total num people infected\n",
    "    #seriesR: total num people who recovered \n",
    "    \n",
    "    init1 /= np.sum(init1)\n",
    "\n",
    "    t0 = 0\n",
    "    t_end = 7 * 14 * 10\n",
    "    t_b = t_b\n",
    "    print(t_b)\n",
    "\n",
    "    return System(init1=init1, t0=t0, t_end=t_end, t_b = t_b, seriesS=seriesS, seriesI=seriesI, seriesR=seriesR,\n",
    "                  beta1=beta1, gamma1=gamma1, beta2=beta2, gamma2=gamma2)"
   ]
  },
  {
   "cell_type": "code",
   "execution_count": 89,
   "metadata": {
    "collapsed": true
   },
   "outputs": [],
   "source": [
    "def calc_total_infected(system):\n",
    "    \"\"\"Fraction of population infected during the simulation.\n",
    "    \n",
    "    system: System object with results.\n",
    "    \n",
    "    returns: fraction of population\n",
    "    \"\"\"\n",
    "    frame = system.results\n",
    "    return frame.S[system.t0] - frame.S[system.t_end]"
   ]
  },
  {
   "cell_type": "code",
   "execution_count": 90,
   "metadata": {
    "collapsed": true
   },
   "outputs": [],
   "source": [
    "def plot_results(S, I, R):\n",
    "    \"\"\"Plot the results of a SIR model.\n",
    "    \n",
    "    S: TimeSeries\n",
    "    I: TimeSeries\n",
    "    R: TimeSeries\n",
    "    \"\"\"\n",
    "    plot(S, '--', color='blue', label='Susceptible')\n",
    "    plot(I, '-', color='red', label='Infected')\n",
    "    plot(R, ':', color='green', label='Resistant')\n",
    "    decorate(xlabel='Time (days)',\n",
    "             ylabel='Fraction of population')"
   ]
  },
  {
   "cell_type": "markdown",
   "metadata": {},
   "source": [
    "Here's an updated version of `run_simulation` that uses `unpack`."
   ]
  },
  {
   "cell_type": "code",
   "execution_count": 91,
   "metadata": {
    "collapsed": true
   },
   "outputs": [],
   "source": [
    "def run_simulation(system):\n",
    "    \"\"\"Runs a simulation of the system.\n",
    "    \n",
    "    Add a TimeFrame to the System: results\n",
    "    \n",
    "    system: System object\n",
    "    update_func: function that updates state\n",
    "    \"\"\"\n",
    "    unpack(system)\n",
    "    \n",
    "    frame = TimeFrame(columns=init1.index)\n",
    "    frame.loc[t0] = init1\n",
    "    seriesS[t0] = init1.S\n",
    "    seriesI[t0] = init1.I1\n",
    "    seriesR[t0] = init1.R1\n",
    "    \n",
    "    for i in linrange(t0, t_end):\n",
    "        if i < t_b:\n",
    "            frame.loc[i+1] = update1(frame.loc[i], system, i)\n",
    "        else:\n",
    "            frame.loc[i+1] = update2(frame.loc[i], system, i)\n",
    "    \n",
    "    system.results = frame"
   ]
  },
  {
   "cell_type": "code",
   "execution_count": 92,
   "metadata": {
    "collapsed": true
   },
   "outputs": [],
   "source": [
    "def update1(state, system, i):\n",
    "    \"\"\"Update the SIR model.\n",
    "    \n",
    "    state: State (s, i, r)\n",
    "    system: System object\n",
    "    \n",
    "    returns: State (sir)\n",
    "    \"\"\"\n",
    "    unpack(system)\n",
    "    s, i1, r1, i2, r2, iboth, i12, i21, rboth = state\n",
    "\n",
    "    infected = beta1 * i1 * s    \n",
    "    recovered = gamma1 * i1\n",
    "    \n",
    "    s -= infected\n",
    "    i1 += infected - recovered\n",
    "    r1 += recovered\n",
    "    \n",
    "    seriesS[i] = s\n",
    "    seriesI[i] = i1 + i2 + iboth + i12 + i21\n",
    "    seriesR[i] = r1 + r2 + rboth\n",
    "    \n",
    "    return State(S=s, I1=i1, R1=r1, I2=i2, R2=r2, Iboth=iboth, I12 = i12, I21=i21, Rboth=rboth)"
   ]
  },
  {
   "cell_type": "code",
   "execution_count": 94,
   "metadata": {},
   "outputs": [],
   "source": [
    "def update2(state, system, i):\n",
    "    \"\"\"Update the SIR model.\n",
    "    \n",
    "    state: State (s, i, r)\n",
    "    system: System object\n",
    "    \n",
    "    returns: State (sir)\n",
    "    \"\"\"\n",
    "    unpack(system)\n",
    "    s, i1, r1, i2, r2, iboth, i12, i21, rboth = state\n",
    "    \n",
    "    if i2 == 0:\n",
    "        i2 = 1/90\n",
    "        s = s - i2\n",
    "    \n",
    "    s = s - ((beta1*s*i1) - (beta2*s*i2))\n",
    "    i1 = i1 + ((beta1*s*i1) - (gamma1*i1))\n",
    "    i2 = i2 + ((beta2*s*i2) - (gamma2*i2))\n",
    "    \n",
    "    iboth = iboth + (((beta2*i1*i2) + (beta1*i1*i2)) - (gamma1*gamma2*iboth))\n",
    "    \n",
    "    r1 = r1 + (gamma1*i1) - ((beta2*r1*(i2+iboth)))\n",
    "    r2 = r2 + (gamma2*i2) - ((beta1*r2*(i1+iboth)))\n",
    "    \n",
    "    i12 = i12 + ((beta2*r1*(i2+iboth)) - (gamma2*i12))\n",
    "    i21 = i21 + ((beta1*r2*(i1+iboth)) - (gamma1*i21))\n",
    "    \n",
    "    rboth = rboth + (gamma2*i12) + (gamma1*i21) + (gamma1*gamma2*iboth)\n",
    "    \n",
    "    \n",
    "    seriesS[i] = s + r1 + r2\n",
    "    seriesI[i] = i1 + i2 + iboth + i12 + i21\n",
    "    seriesR[i] = rboth\n",
    "    \n",
    "    #if seriesS[i] + seriesI[i] + seriesR[i] != 1:\n",
    "       # print(\"something is wrong at \", i)\n",
    "       # print(seriesS[i] + seriesI[i] + seriesR[i])\n",
    "        \n",
    "    return State(S=s, I1=i1, R1=r1, I2=i2, R2=r2, Iboth=iboth, I12 = i12, I21=i21, Rboth=rboth)"
   ]
  },
  {
   "cell_type": "markdown",
   "metadata": {},
   "source": [
    "Test the updated code with this example."
   ]
  },
  {
   "cell_type": "code",
   "execution_count": 95,
   "metadata": {},
   "outputs": [
    {
     "name": "stdout",
     "output_type": "stream",
     "text": [
      "60\n"
     ]
    },
    {
     "data": {
      "text/html": [
       "<div>\n",
       "<style>\n",
       "    .dataframe thead tr:only-child th {\n",
       "        text-align: right;\n",
       "    }\n",
       "\n",
       "    .dataframe thead th {\n",
       "        text-align: left;\n",
       "    }\n",
       "\n",
       "    .dataframe tbody tr th {\n",
       "        vertical-align: top;\n",
       "    }\n",
       "</style>\n",
       "<table border=\"1\" class=\"dataframe\">\n",
       "  <thead>\n",
       "    <tr style=\"text-align: right;\">\n",
       "      <th></th>\n",
       "      <th>S</th>\n",
       "      <th>I1</th>\n",
       "      <th>R1</th>\n",
       "      <th>I2</th>\n",
       "      <th>R2</th>\n",
       "      <th>Iboth</th>\n",
       "      <th>I12</th>\n",
       "      <th>I21</th>\n",
       "      <th>Rboth</th>\n",
       "    </tr>\n",
       "  </thead>\n",
       "  <tbody>\n",
       "    <tr>\n",
       "      <th>0</th>\n",
       "      <td>0.988889</td>\n",
       "      <td>0.011111</td>\n",
       "      <td>0.000000</td>\n",
       "      <td>0.0</td>\n",
       "      <td>0.0</td>\n",
       "      <td>0.0</td>\n",
       "      <td>0.0</td>\n",
       "      <td>0.0</td>\n",
       "      <td>0.0</td>\n",
       "    </tr>\n",
       "    <tr>\n",
       "      <th>1</th>\n",
       "      <td>0.983395</td>\n",
       "      <td>0.016049</td>\n",
       "      <td>0.000556</td>\n",
       "      <td>0.0</td>\n",
       "      <td>0.0</td>\n",
       "      <td>0.0</td>\n",
       "      <td>0.0</td>\n",
       "      <td>0.0</td>\n",
       "      <td>0.0</td>\n",
       "    </tr>\n",
       "    <tr>\n",
       "      <th>2</th>\n",
       "      <td>0.975504</td>\n",
       "      <td>0.023138</td>\n",
       "      <td>0.001358</td>\n",
       "      <td>0.0</td>\n",
       "      <td>0.0</td>\n",
       "      <td>0.0</td>\n",
       "      <td>0.0</td>\n",
       "      <td>0.0</td>\n",
       "      <td>0.0</td>\n",
       "    </tr>\n",
       "    <tr>\n",
       "      <th>3</th>\n",
       "      <td>0.964218</td>\n",
       "      <td>0.033267</td>\n",
       "      <td>0.002515</td>\n",
       "      <td>0.0</td>\n",
       "      <td>0.0</td>\n",
       "      <td>0.0</td>\n",
       "      <td>0.0</td>\n",
       "      <td>0.0</td>\n",
       "      <td>0.0</td>\n",
       "    </tr>\n",
       "    <tr>\n",
       "      <th>4</th>\n",
       "      <td>0.948179</td>\n",
       "      <td>0.047642</td>\n",
       "      <td>0.004178</td>\n",
       "      <td>0.0</td>\n",
       "      <td>0.0</td>\n",
       "      <td>0.0</td>\n",
       "      <td>0.0</td>\n",
       "      <td>0.0</td>\n",
       "      <td>0.0</td>\n",
       "    </tr>\n",
       "  </tbody>\n",
       "</table>\n",
       "</div>"
      ],
      "text/plain": [
       "          S        I1        R1   I2   R2  Iboth  I12  I21  Rboth\n",
       "0  0.988889  0.011111  0.000000  0.0  0.0    0.0  0.0  0.0    0.0\n",
       "1  0.983395  0.016049  0.000556  0.0  0.0    0.0  0.0  0.0    0.0\n",
       "2  0.975504  0.023138  0.001358  0.0  0.0    0.0  0.0  0.0    0.0\n",
       "3  0.964218  0.033267  0.002515  0.0  0.0    0.0  0.0  0.0    0.0\n",
       "4  0.948179  0.047642  0.004178  0.0  0.0    0.0  0.0  0.0    0.0"
      ]
     },
     "execution_count": 95,
     "metadata": {},
     "output_type": "execute_result"
    }
   ],
   "source": [
    "system = make_system(0.5, 0.05, 0.5, 0.05, 60)\n",
    "run_simulation(system)\n",
    "system.results.head()\n"
   ]
  },
  {
   "cell_type": "code",
   "execution_count": 96,
   "metadata": {},
   "outputs": [
    {
     "data": {
      "image/png": "[encoded data removed]",
      "text/plain": [
       "<matplotlib.figure.Figure at 0x2292c6ffbe0>"
      ]
     },
     "metadata": {},
     "output_type": "display_data"
    }
   ],
   "source": [
    "frame = system.results\n",
    "plot_results(system.seriesS, system.seriesI, system.seriesR)"
   ]
  },
  {
   "cell_type": "code",
   "execution_count": 98,
   "metadata": {},
   "outputs": [
    {
     "name": "stdout",
     "output_type": "stream",
     "text": [
      "1000\n"
     ]
    },
    {
     "data": {
      "image/png": "[encoded data removed]",
      "text/plain": [
       "<matplotlib.figure.Figure at 0x2292b4eed68>"
      ]
     },
     "metadata": {},
     "output_type": "display_data"
    }
   ],
   "source": [
    "system = make_system(0.5, 0.05, 0.5, 0.05, 1000)\n",
    "run_simulation(system)\n",
    "frame = system.results\n",
    "plot_results(system.seriesS, system.seriesI, system.seriesR)"
   ]
  },
  {
   "cell_type": "code",
   "execution_count": null,
   "metadata": {
    "collapsed": true
   },
   "outputs": [],
   "source": []
  }
 ],
 "metadata": {
  "kernelspec": {
   "display_name": "Python 3",
   "language": "python",
   "name": "python3"
  },
  "language_info": {
   "codemirror_mode": {
    "name": "ipython",
    "version": 3
   },
   "file_extension": ".py",
   "mimetype": "text/x-python",
   "name": "python",
   "nbconvert_exporter": "python",
   "pygments_lexer": "ipython3",
   "version": "3.6.1"
  }
 },
 "nbformat": 4,
 "nbformat_minor": 1
}
