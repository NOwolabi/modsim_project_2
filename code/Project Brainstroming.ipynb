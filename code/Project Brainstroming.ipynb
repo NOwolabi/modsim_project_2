{
 "cells": [
  {
   "cell_type": "markdown",
   "metadata": {},
   "source": [
    "# Modeling and Simulation in Python\n",
    "\n",
    "Chapter 6: Analysis\n",
    "\n",
    "Copyright 2017 Allen Downey\n",
    "\n",
    "License: [Creative Commons Attribution 4.0 International](https://creativecommons.org/licenses/by/4.0)\n"
   ]
  },
  {
   "cell_type": "code",
   "execution_count": 76,
   "metadata": {
    "collapsed": true
   },
   "outputs": [],
   "source": [
    "# If you want the figures to appear in the notebook, \n",
    "# and you want to interact with them, use\n",
    "# %matplotlib notebook\n",
    "\n",
    "# If you want the figures to appear in the notebook, \n",
    "# and you don't want to interact with them, use\n",
    "# %matplotlib inline\n",
    "\n",
    "# If you want the figures to appear in separate windows, use\n",
    "# %matplotlib qt5\n",
    "\n",
    "# To switch from one to another, you have to select Kernel->Restart\n",
    "\n",
    "%matplotlib inline\n",
    "\n",
    "from modsim import *"
   ]
  },
  {
   "cell_type": "markdown",
   "metadata": {},
   "source": [
    "### Code from the previous chapter"
   ]
  },
  {
   "cell_type": "markdown",
   "metadata": {},
   "source": [
    "`make_system`, `plot_results`, and `calc_total_infected` are unchanged."
   ]
  },
  {
   "cell_type": "code",
   "execution_count": 84,
   "metadata": {
    "collapsed": true
   },
   "outputs": [],
   "source": [
    "def make_system(beta1, gamma1, beta2, gamma2, t_b):\n",
    "    \"\"\"Make a system object for the SIR model.\n",
    "    \n",
    "    beta: contact rate in days\n",
    "    gamma: recovery rate in days\n",
    "    \n",
    "    returns: System object\n",
    "    \"\"\"\n",
    "    init1 = State(S1=89, I1=1, R1=0, S2=0, I2=0, R2=0, S3=0, I3a=0, I3b = 0, R3=0, I4=0)\n",
    "    seriesS = TimeSeries()\n",
    "    seriesI = TimeSeries()\n",
    "    seriesR = TimeSeries()\n",
    "    #S1: num people who didn't get either disease\n",
    "    #I1: num people who are infected by disease A\n",
    "    #R1: num people who recovered from disease A\n",
    "    #S2: num people who already recovered from only one disease (same as R1 + R2)\n",
    "    #I2: num people who are infected by disease B\n",
    "    #R2: num people who recovered from disease B\n",
    "    #S3: num people who is infected by only one disease (same as I1 + I2)\n",
    "    #I3a: num people who reovered from disease a and is infected by b\n",
    "    #I3b: num people who recovered from disease b and are infected by disease a\n",
    "    #R3: num people who recovered from both diseases\n",
    "    #I4: num people infected to both diseases at same time \n",
    "    #seriesS: total num people susceptible \n",
    "    #seriesI: total num people infected\n",
    "    #seriesR: total num people who recovered \n",
    "    \n",
    "    init1 /= np.sum(init1)\n",
    "\n",
    "    t0 = 0\n",
    "    t_end = 7 * 14\n",
    "    t_b = t_b\n",
    "\n",
    "    return System(init1=init1, t0=t0, t_end=t_end, t_b = t_b, seriesS=seriesS, seriesI=seriesI, seriesR=seriesR,\n",
    "                  beta1=beta1, gamma1=gamma1, beta2=beta2, gamma2=gamma2)"
   ]
  },
  {
   "cell_type": "code",
   "execution_count": 78,
   "metadata": {
    "collapsed": true
   },
   "outputs": [],
   "source": [
    "def calc_total_infected(system):\n",
    "    \"\"\"Fraction of population infected during the simulation.\n",
    "    \n",
    "    system: System object with results.\n",
    "    \n",
    "    returns: fraction of population\n",
    "    \"\"\"\n",
    "    frame = system.results\n",
    "    return frame.S[system.t0] - frame.S[system.t_end]"
   ]
  },
  {
   "cell_type": "code",
   "execution_count": 79,
   "metadata": {
    "collapsed": true
   },
   "outputs": [],
   "source": [
    "def plot_results(S, I, R):\n",
    "    \"\"\"Plot the results of a SIR model.\n",
    "    \n",
    "    S: TimeSeries\n",
    "    I: TimeSeries\n",
    "    R: TimeSeries\n",
    "    \"\"\"\n",
    "    plot(S, '--', color='blue', label='Susceptible')\n",
    "    plot(I, '-', color='red', label='Infected')\n",
    "    plot(R, ':', color='green', label='Resistant')\n",
    "    decorate(xlabel='Time (days)',\n",
    "             ylabel='Fraction of population')"
   ]
  },
  {
   "cell_type": "markdown",
   "metadata": {},
   "source": [
    "Here's an updated version of `run_simulation` that uses `unpack`."
   ]
  },
  {
   "cell_type": "code",
   "execution_count": 86,
   "metadata": {
    "collapsed": true
   },
   "outputs": [],
   "source": [
    "def run_simulation(system):\n",
    "    \"\"\"Runs a simulation of the system.\n",
    "    \n",
    "    Add a TimeFrame to the System: results\n",
    "    \n",
    "    system: System object\n",
    "    update_func: function that updates state\n",
    "    \"\"\"\n",
    "    unpack(system)\n",
    "    \n",
    "    frame = TimeFrame(columns=init1.index)\n",
    "    frame.loc[t0] = init1\n",
    "    seriesS[t0] = init1.S1\n",
    "    seriesI[t0] = init1.I1\n",
    "    seriesR[t0] = init1.R1\n",
    "    \n",
    "    for i in linrange(t0, t_end):\n",
    "        if t0 < t_b:\n",
    "            frame.loc[i+1] = update1(frame.loc[i], system, i)\n",
    "        else:\n",
    "            frame.loc[i+1] = update2(frame.loc[i], system, i)\n",
    "    \n",
    "    system.results = frame"
   ]
  },
  {
   "cell_type": "code",
   "execution_count": 81,
   "metadata": {
    "collapsed": true
   },
   "outputs": [],
   "source": [
    "def update1(state, system, i):\n",
    "    \"\"\"Update the SIR model.\n",
    "    \n",
    "    state: State (s, i, r)\n",
    "    system: System object\n",
    "    \n",
    "    returns: State (sir)\n",
    "    \"\"\"\n",
    "    unpack(system)\n",
    "    s1, i1, r1, s2, i2, r2, s3, i3a, i3b, r3, i4 = state\n",
    "\n",
    "    infected = beta1 * i1 * s1    \n",
    "    recovered = gamma1 * i1\n",
    "    \n",
    "    s1 -= infected\n",
    "    i1 += infected - recovered\n",
    "    r1 += recovered\n",
    "    \n",
    "    seriesS[i] = s1 + s2 + s3\n",
    "    seriesI[i] = i1 + i2 + i3 + i4\n",
    "    seriesR[i] = r1 + r2 + r3\n",
    "    \n",
    "    return State(S1=s1, I1=i1, R1=r1, S2=s2, I2=i2, R2=r2, S3=s3, I3a=i3a, I3b = i3b, R3=r3, I4=i4)"
   ]
  },
  {
   "cell_type": "code",
   "execution_count": 82,
   "metadata": {
    "collapsed": true
   },
   "outputs": [],
   "source": [
    "def update2(state, system, i):\n",
    "    \"\"\"Update the SIR model.\n",
    "    \n",
    "    state: State (s, i, r)\n",
    "    system: System object\n",
    "    \n",
    "    returns: State (sir)\n",
    "    \"\"\"\n",
    "    unpack(system)\n",
    "    s1, i1, r1, s2, i2, r2, s3, i3a, i3b, r3, i4 = state\n",
    "    #S1: num people who didn't get either disease\n",
    "    #I1: num people who are infected by disease A\n",
    "    #R1: num people who recovered from disease A\n",
    "    #S2: num people who already recovered from only one disease (same as R1 + R2)\n",
    "    #I2: num people who are infected by disease B\n",
    "    #R2: num people who recovered from disease B\n",
    "    #S3: num people who is infected by only one disease (same as I1 + I2)\n",
    "    #I3a: num people who recovered from disease a and is infected by b\n",
    "    #I3b: num people who recovered from disease b and are infected by disease a\n",
    "    #R3: num people who recovered from both diseases\n",
    "    #I4: num people infected to both diseases at same time\n",
    "    \n",
    "    if i2 < 1:\n",
    "        i2 = 1\n",
    "        \n",
    "    i1 = beta1 * i1 * s1  \n",
    "    s1 = s1 - i1\n",
    "    i2 = beta2 * i2 * s1\n",
    "    s1 = s1 - i2\n",
    "    s3 = i1 + i2 \n",
    "    \n",
    "    i4a = beta2 * i1 * i2 #needs to be slightly modified due to assumptions\n",
    "    i1 = i1 - i4a\n",
    "    i4b = beta1 * i2 * i1 #needs to be slightly modified due to assumptions\n",
    "    i2 = i2 - i4b\n",
    "    i4 = i4a + i4b\n",
    "    \n",
    "    r1 = gamma1 * i1\n",
    "    i1 = i1 - r1\n",
    "    r2 = gamma2 * i2\n",
    "    i2 = i2 - r2\n",
    "    s2 = r1 + r2\n",
    "    \n",
    "    i3a = beta2 * r1 * i2 #needs to be slightly modified due to assumptions  \n",
    "    r1 = r1 - i3a\n",
    "    i3b = beta1 * r2 * i1 #needs to be slightly modified due to assumptions\n",
    "    r2 = r2 - i3b\n",
    "    \n",
    "    r3a = i3a * gamma2\n",
    "    i3a = i3a - r3a\n",
    "    r3b = i3b * gamma1\n",
    "    i3b = i3b - r3b\n",
    "    r3 = r3a + r3b\n",
    "    r3 = r3 + (gamma2 * gamma1 * i4) #might need to think this through a little with what happens to people infected with both diseases\n",
    "     \n",
    "    #i4 = beta1 * i1 * i2 + beta2 * i2 * i1 \n",
    "    #needs to be slightly modified due to assumptions\n",
    "    #i4 = (beta1 * i1 * i2 + beta2 * i2 * i1) / 2\n",
    "    \n",
    "    \n",
    "    seriesS[i] = s1 + s2 + s3\n",
    "    seriesI[i] = i1 + i2 + i3 + i4\n",
    "    seriesR[i] = r1 + r2 + r3\n",
    "    \n",
    "    return State(S1=s1, I1=i1, R1=r1, S2=s2, I2=i2, R2=r2, S3=s3, I3a=i3a, I3b = i3b,R3=r3, I4=i4)"
   ]
  },
  {
   "cell_type": "markdown",
   "metadata": {},
   "source": [
    "Test the updated code with this example."
   ]
  },
  {
   "cell_type": "code",
   "execution_count": 87,
   "metadata": {},
   "outputs": [
    {
     "data": {
      "text/html": [
       "<div>\n",
       "<style>\n",
       "    .dataframe thead tr:only-child th {\n",
       "        text-align: right;\n",
       "    }\n",
       "\n",
       "    .dataframe thead th {\n",
       "        text-align: left;\n",
       "    }\n",
       "\n",
       "    .dataframe tbody tr th {\n",
       "        vertical-align: top;\n",
       "    }\n",
       "</style>\n",
       "<table border=\"1\" class=\"dataframe\">\n",
       "  <thead>\n",
       "    <tr style=\"text-align: right;\">\n",
       "      <th></th>\n",
       "      <th>S1</th>\n",
       "      <th>I1</th>\n",
       "      <th>R1</th>\n",
       "      <th>S2</th>\n",
       "      <th>I2</th>\n",
       "      <th>R2</th>\n",
       "      <th>S3</th>\n",
       "      <th>I3</th>\n",
       "      <th>R3</th>\n",
       "      <th>I4</th>\n",
       "    </tr>\n",
       "  </thead>\n",
       "  <tbody>\n",
       "    <tr>\n",
       "      <th>0</th>\n",
       "      <td>0.988889</td>\n",
       "      <td>0.011111</td>\n",
       "      <td>0.000000</td>\n",
       "      <td>0.0</td>\n",
       "      <td>0.0</td>\n",
       "      <td>0.0</td>\n",
       "      <td>0.0</td>\n",
       "      <td>0.0</td>\n",
       "      <td>0.0</td>\n",
       "      <td>0.0</td>\n",
       "    </tr>\n",
       "    <tr>\n",
       "      <th>1</th>\n",
       "      <td>0.985230</td>\n",
       "      <td>0.011992</td>\n",
       "      <td>0.002778</td>\n",
       "      <td>0.0</td>\n",
       "      <td>0.0</td>\n",
       "      <td>0.0</td>\n",
       "      <td>0.0</td>\n",
       "      <td>0.0</td>\n",
       "      <td>0.0</td>\n",
       "      <td>0.0</td>\n",
       "    </tr>\n",
       "    <tr>\n",
       "      <th>2</th>\n",
       "      <td>0.981296</td>\n",
       "      <td>0.012929</td>\n",
       "      <td>0.005776</td>\n",
       "      <td>0.0</td>\n",
       "      <td>0.0</td>\n",
       "      <td>0.0</td>\n",
       "      <td>0.0</td>\n",
       "      <td>0.0</td>\n",
       "      <td>0.0</td>\n",
       "      <td>0.0</td>\n",
       "    </tr>\n",
       "    <tr>\n",
       "      <th>3</th>\n",
       "      <td>0.977071</td>\n",
       "      <td>0.013921</td>\n",
       "      <td>0.009008</td>\n",
       "      <td>0.0</td>\n",
       "      <td>0.0</td>\n",
       "      <td>0.0</td>\n",
       "      <td>0.0</td>\n",
       "      <td>0.0</td>\n",
       "      <td>0.0</td>\n",
       "      <td>0.0</td>\n",
       "    </tr>\n",
       "    <tr>\n",
       "      <th>4</th>\n",
       "      <td>0.972541</td>\n",
       "      <td>0.014970</td>\n",
       "      <td>0.012488</td>\n",
       "      <td>0.0</td>\n",
       "      <td>0.0</td>\n",
       "      <td>0.0</td>\n",
       "      <td>0.0</td>\n",
       "      <td>0.0</td>\n",
       "      <td>0.0</td>\n",
       "      <td>0.0</td>\n",
       "    </tr>\n",
       "  </tbody>\n",
       "</table>\n",
       "</div>"
      ],
      "text/plain": [
       "         S1        I1        R1   S2   I2   R2   S3   I3   R3   I4\n",
       "0  0.988889  0.011111  0.000000  0.0  0.0  0.0  0.0  0.0  0.0  0.0\n",
       "1  0.985230  0.011992  0.002778  0.0  0.0  0.0  0.0  0.0  0.0  0.0\n",
       "2  0.981296  0.012929  0.005776  0.0  0.0  0.0  0.0  0.0  0.0  0.0\n",
       "3  0.977071  0.013921  0.009008  0.0  0.0  0.0  0.0  0.0  0.0  0.0\n",
       "4  0.972541  0.014970  0.012488  0.0  0.0  0.0  0.0  0.0  0.0  0.0"
      ]
     },
     "execution_count": 87,
     "metadata": {},
     "output_type": "execute_result"
    }
   ],
   "source": [
    "system = make_system(0.333, 0.25, 0.33, 0.25, 1)\n",
    "run_simulation(system)\n",
    "system.results.head()"
   ]
  },
  {
   "cell_type": "code",
   "execution_count": 91,
   "metadata": {},
   "outputs": [
    {
     "data": {
      "image/png": "[encoded data removed]",
      "text/plain": [
       "<matplotlib.figure.Figure at 0x241e2254ac8>"
      ]
     },
     "metadata": {},
     "output_type": "display_data"
    }
   ],
   "source": [
    "frame = system.results\n",
    "plot_results(frame.S1, frame.I1, frame.R1)"
   ]
  },
  {
   "cell_type": "code",
   "execution_count": null,
   "metadata": {
    "collapsed": true
   },
   "outputs": [],
   "source": []
  }
 ],
 "metadata": {
  "kernelspec": {
   "display_name": "Python 3",
   "language": "python",
   "name": "python3"
  },
  "language_info": {
   "codemirror_mode": {
    "name": "ipython",
    "version": 3
   },
   "file_extension": ".py",
   "mimetype": "text/x-python",
   "name": "python",
   "nbconvert_exporter": "python",
   "pygments_lexer": "ipython3",
   "version": "3.6.1"
  }
 },
 "nbformat": 4,
 "nbformat_minor": 1
}
